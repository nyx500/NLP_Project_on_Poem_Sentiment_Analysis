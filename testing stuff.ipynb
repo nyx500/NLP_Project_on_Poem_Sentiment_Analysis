{
 "cells": [
  {
   "cell_type": "code",
   "execution_count": null,
   "id": "26d32cff-2984-4c6f-a965-bb6a6d7b5104",
   "metadata": {},
   "outputs": [],
   "source": [
    "param_grid = {\n",
    "    \"per_device_train_batch_size\": [16],  # Reduce batch size if memory issues\n",
    "    \"per_device_eval_batch_size\": [16],\n",
    "    \"learning_rate\": [5e-5, 3e-5, 2e-5],\n",
    "    \"num_train_epochs\": [8],\n",
    "    \"weight_decay\": [0.001, 0.01, 0.1],\n",
    "    \"warmup_steps\": [500],\n",
    "}"
   ]
  },
  {
   "cell_type": "code",
   "execution_count": null,
   "id": "e3ebbbcf-64c8-42a9-82c3-487022da2ed6",
   "metadata": {},
   "outputs": [],
   "source": [
    "\n",
    "param_grid = {\n",
    "    \"per_device_train_batch_size\": [16],  # Reduce batch size if memory issues\n",
    "    \"per_device_eval_batch_size\": [16],\n",
    "    \"learning_rate\": [5e-5, 3e-5, 2e-5],\n",
    "    \"num_train_epochs\": [8],\n",
    "    \"weight_decay\": [0.001, 0.01, 0.1],\n",
    "    \"warmup_steps\": [500],\n",
    "}\n",
    "\n"
   ]
  },
  {
   "cell_type": "code",
   "execution_count": null,
   "id": "78c58c39-2a6a-4c36-8096-d88538bee67d",
   "metadata": {},
   "outputs": [],
   "source": [
    "train_set = pd.read_csv(\"original_test_df.csv\")\n",
    "val_set = pd.read_csv(\"original_val_df.csv\")\n",
    "test_set = pd.read_csv(\"original_test_df.csv\")\n",
    "print(train_set.head(5))\n",
    "# Convert from pandas Series to list as this is what the distilbert tokenizer requires as inputs\n",
    "train_texts = train_set[\"verse_text\"].to_list()\n",
    "train_labels=train_set[\"label\"].to_list()\n",
    "val_texts = val_set[\"verse_text\"].to_list()\n",
    "val_labels = val_set[\"label\"].to_list()\n",
    "test_texts = test_set[\"verse_text\"].to_list()\n",
    "test_labels = test_set[\"label\"].to_list()"
   ]
  }
 ],
 "metadata": {
  "kernelspec": {
   "display_name": "Python 3 (ipykernel)",
   "language": "python",
   "name": "python3"
  },
  "language_info": {
   "codemirror_mode": {
    "name": "ipython",
    "version": 3
   },
   "file_extension": ".py",
   "mimetype": "text/x-python",
   "name": "python",
   "nbconvert_exporter": "python",
   "pygments_lexer": "ipython3",
   "version": "3.8.0"
  }
 },
 "nbformat": 4,
 "nbformat_minor": 5
}
