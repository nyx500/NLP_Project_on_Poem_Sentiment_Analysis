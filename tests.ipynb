{
 "cells": [
  {
   "cell_type": "code",
   "execution_count": null,
   "id": "92623d25-fe8f-4e9d-b233-36516d9f78ea",
   "metadata": {},
   "outputs": [],
   "source": [
    "## Convert tokens back into strings for scikit-learn TF-IDF vectorizer inputs\n",
    "wordnet_negated_train_texts = [' '.join(tokens) for tokens in wordnet_negated_train_tokens]\n",
    "wordnet_negated_validation_texts = [' '.join(tokens) for tokens in wordnet_negated_validation_tokens]\n",
    "## Instantiate and train the TF-IDF Vectorizer on the WordNet negated training texts: learn vocabulary and weights using the vectorizer\n",
    "tfidf_vectorizer = TfidfVectorizer()\n",
    "tfidf_vectorizer.fit(wordnet_negated_train_texts)\n",
    "## Transform the training and validation texts/strings into TF-IDF featuresets\n",
    "wordnet_negated_train_data_tf_idf_featuresets = tfidf_vectorizer.transform(wordnet_negated_train_texts)\n",
    "wordnet_negated_validation_data_tf_idf_featuresets = tfidf_vectorizer.transform(wordnet_negated_validation_texts)\n",
    "## Instantiate scikit-learn multinomial Naive-Bayes classifier (cannot use the nltk one as requires dict format with True and False values instead)\n",
    "NBclassifier = MultinomialNB()\n",
    "NBclassifier.fit(wordnet_negated_train_data_tf_idf_featuresets, original_dataset_train_labels)\n",
    "# Make predictions\n",
    "validation_predictions = NBclassifier.predict(wordnet_negated_validation_data_tf_idf_featuresets)\n",
    "# Print accuracy score\n",
    "accuracy = accuracy_score(original_dataset_validation_labels, validation_predictions)\n",
    "print(f\"Accuracy: {accuracy}\")\n",
    "\n",
    "# Print classification report\n",
    "print(\"Classification Report:\")\n",
    "print(classification_report(original_dataset_validation_labels, validation_predictions, target_names=label_names, zero_division=0))\n",
    "\n",
    "# Generate and display confusion matrix\n",
    "generate_and_show_confusion_matrix(\n",
    "    original_dataset_validation_labels,\n",
    "    validation_predictions,\n",
    "    label_names,\n",
    "    \"Confusion Matrix for Multnomial NB Classifier with WordNet Negation Handling and TF-IDF\"\n",
    ")"
   ]
  }
 ],
 "metadata": {
  "kernelspec": {
   "display_name": "Python 3 (ipykernel)",
   "language": "python",
   "name": "python3"
  },
  "language_info": {
   "codemirror_mode": {
    "name": "ipython",
    "version": 3
   },
   "file_extension": ".py",
   "mimetype": "text/x-python",
   "name": "python",
   "nbconvert_exporter": "python",
   "pygments_lexer": "ipython3",
   "version": "3.8.0"
  }
 },
 "nbformat": 4,
 "nbformat_minor": 5
}
