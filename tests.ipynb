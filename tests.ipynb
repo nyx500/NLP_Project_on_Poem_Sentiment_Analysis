{
 "cells": [
  {
   "cell_type": "code",
   "execution_count": 2,
   "id": "92623d25-fe8f-4e9d-b233-36516d9f78ea",
   "metadata": {},
   "outputs": [],
   "source": [
    "(\n",
    "    w_neg_word_feature_counts_no_punct,\n",
    "    w_neg_mean_accuracies_no_punct,\n",
    "    w_neg_mean_precisions_no_punct,\n",
    "    w_neg_mean_recalls_no_punct,\n",
    "    w_neg_mean_f1s_no_punct,\n",
    "    w_neg_f1_std_devs_no_punct,\n",
    "    w_neg_f1_ranges_no_punct\n",
    ") = test_diff_word_feature_numbers(\n",
    "    w_neg_recombined_train_tokens_no_punctuation,\n",
    "    recombined_train_labels,\n",
    "    400,  # Start testing from 400 word features\n",
    "    1201,  # End testing at 1200 word features (1201 is exclusive)\n",
    "    50,  # Test every 50 word features\n",
    "    doc_features,\n",
    "    k=5\n",
    ")\n",
    "\n",
    "\n",
    "plot_impacts_of_different_word_counts(w_neg_word_feature_counts_no_punct, w_neg_mean_accuracies_no_punct, w_neg_mean_f1s_no_punct, \n",
    "                                      \"Best Number of Word Features for WordNet Negation with Punctuation Removed\")"
   ]
  }
 ],
 "metadata": {
  "kernelspec": {
   "display_name": "Python 3 (ipykernel)",
   "language": "python",
   "name": "python3"
  },
  "language_info": {
   "codemirror_mode": {
    "name": "ipython",
    "version": 3
   },
   "file_extension": ".py",
   "mimetype": "text/x-python",
   "name": "python",
   "nbconvert_exporter": "python",
   "pygments_lexer": "ipython3",
   "version": "3.8.0"
  }
 },
 "nbformat": 4,
 "nbformat_minor": 5
}
