{
 "cells": [
  {
   "cell_type": "markdown",
   "id": "e5959f54-fb1c-4e44-95a4-8fba1a2337f2",
   "metadata": {},
   "source": [
    "# Poetry Sentiment Analysis: Comparative Text Classification Using Statistical and Embedding-Based Modelss"
   ]
  },
  {
   "cell_type": "markdown",
   "id": "0043dede-6d8d-4fae-8b20-c8d03d63c13e",
   "metadata": {},
   "source": [
    "## Introduction"
   ]
  },
  {
   "cell_type": "markdown",
   "id": "45dbf799-06dd-4418-8def-3974612f0e66",
   "metadata": {},
   "source": [
    "### Introduction to the Domain-Specific Area\n",
    "\n"
   ]
  },
  {
   "cell_type": "markdown",
   "id": "a0027f80-f017-4a57-b653-2d20875de670",
   "metadata": {},
   "source": [
    "*The first step of the coursework is to identify and describe the problem\n",
    "or challenge. This is an area of industry or science where text\n",
    "classification methods can contribute. Include relevant literature to\n",
    "support the significance of the chosen area.*"
   ]
  },
  {
   "cell_type": "markdown",
   "id": "7dc8ae9e-6ff2-4cfa-9666-92d257fc3023",
   "metadata": {},
   "source": [
    "Sentiment analysis, a sub-domain of NLP, involves the automated classification of texts based on their emotional connotations and meanings. This project focuses on the multi-class text classification of lines of poetry (taken from the [google-research-datasets/poem-sentiment corpus](https://huggingface.co/datasets/google-research-datasets/poem_sentiment)) into four possible categories: 0 for \"negative sentiment\" or emotion, 1 for \"positive sentiment\", 2 for \"neutral\" or \"no impact\" and 3 for \"mixed\". The project aims to compare and analyse the performance of classical, statistical approaches to this text classification task with that of a deep learning model on the same dataset.\n",
    "\r\n",
    "The vast availability of text data on the Web and social media since the early 2000s has elevated the domain of sentiment analysis as a highly valuable research field [2]. As summarized by Liu, the automated analysis of sentiment in online customer reviews, forum posts and social media comments plays a central role in the decision-making process for many businesses. It provides a more efficient, thorough and cost-effective way of gauging customer response to products, especially when compared to traditional ways of measuring customer satisfaction (i.e. surveys, focus groups) [2]. Additionally,computing  the polarity of people's opinions published on the Web ca assist ino predicingt election results and general sociopolitical trends. While the benefits of sentiment analysis for measuring customer satisfaction or political moods using either reviews on the Web or social media posts have been extensively documented [2], there has been relatively less research done in terms of identifying sentiment in literary and poetic texts.Although the e rationale for sentiment analysis for poetic texts is not as immediately apparent as the clear financiaor political advantages outlined briefly above,sr, there  stillare several reasons why sentiment analysis of poetic texts can be of some valu\n",
    "eFirst one, poetic language constitutes a specific challenge for any text classification task, due to the prevalence of figurative language and unconventional uses of words in unexpected contexts known as \"cathachresis\" [1]. Metaphorical and figurative expressions are also used (albeit less frequently) in customer reviews and social media posts analysed for business and political purposConsequently,ult, analysing, improving and addressing the challenges involved in the computational detection of sentiment polarity in poetic language can help to make the NLP techniques and models used for sentiment classification in general more rob st.\r\n",
    "Secondly, Kim and Klihave highlightedlight the centrality of sentiment analysis to the growing field of research known as the \"digital humanities\" [1]. The authors point out that \"the stylistic properties of texts can be defined on the basis of their emotional interest\", and not merely on their linguistic characteristics. Sentiment analysis techniques can therefore shed a new perspective on research topics in literary studies, including the evolution of the literary expression of emotions over time or the automatic analysis of narrative structure (e.g. does the text conclude with a happy endi g?).\r\n",
    "Finally, sentiment analysis of literary texts can be used to facilitate detection of bias towards certain geographic locations or demographic groups over time. Sheng and Uthus, the authors who compiled and annotated the dataset used in this project did so in order to counteract the societal bias of an automated poetry collaboration tool [3]. As an initial step in this process, they trained a BERT-like deep-learning model to learn to identify the sentiment polarity in the lines of poetry randomly selected from Project Gutenberg, resulting in an 85% accuracy \n",
    "sAs suchquently, the field of sentiment analysis of poetic language can be seen as valuathe contextn terms of a more rianalysisessment of various models' capabilities to handle figurative language, to assist in the formulation and testing of theories in literary research, and to diagnose social biases in literary and culturaltexts.\r\n",
    "texts.\r\n",
    "exts.\r\n",
    "ts.ds.\r\n"
   ]
  },
  {
   "cell_type": "markdown",
   "id": "767769cd-55a7-451b-a608-0666e78f9f48",
   "metadata": {},
   "source": [
    "## References \n",
    "\n",
    "[1] [Evgeny Kim / Roman Klinger: A Survey on Sentiment and Emotion Analysis for Computational Literary Studies. (Zeitschrift für digitale Geisteswissenschaften, Herzog August Bibliothek, 2019. CC BY-SA 4.0. DOI: https://doi.org/10.17175/2019_008. URL: https://zfdg.de/2019_008_v1)](https://arxiv.org/abs/1808.03137)\n",
    "\n",
    "[2] [Bing Liu: Sentiment Analysis and Opinion Mining. (1st ed., Springer Cham 23 May 2012, XIV, 167 pp. ISBN 978-3-031-01017-0, eBook ISBN 978-3-031-02145-9) Switzerland AG 2012. DOI: https://doi.org/10.1007/978-3-031-02145-9](https://link.springer.com/book/10.1007/978-3-031-02145-9)\n",
    "\n",
    "[3] [Emily Sheng / David Uthus: Investigating Societal Biases in a Poetry Composition System. (arXiv, 2020. URL: https://arxiv.org/abs/2011.02686)](https://arxiv.org/abs/2011.02686)"
   ]
  }
 ],
 "metadata": {
  "kernelspec": {
   "display_name": "Python 3 (ipykernel)",
   "language": "python",
   "name": "python3"
  },
  "language_info": {
   "codemirror_mode": {
    "name": "ipython",
    "version": 3
   },
   "file_extension": ".py",
   "mimetype": "text/x-python",
   "name": "python",
   "nbconvert_exporter": "python",
   "pygments_lexer": "ipython3",
   "version": "3.8.0"
  }
 },
 "nbformat": 4,
 "nbformat_minor": 5
}
