{
 "cells": [
  {
   "cell_type": "code",
   "execution_count": 1,
   "id": "92623d25-fe8f-4e9d-b233-36516d9f78ea",
   "metadata": {},
   "outputs": [
    {
     "ename": "NameError",
     "evalue": "name 'stopwords' is not defined",
     "output_type": "error",
     "traceback": [
      "\u001b[1;31m---------------------------------------------------------------------------\u001b[0m",
      "\u001b[1;31mNameError\u001b[0m                                 Traceback (most recent call last)",
      "Cell \u001b[1;32mIn[1], line 3\u001b[0m\n\u001b[0;32m      1\u001b[0m \u001b[38;5;66;03m# Stopwords\u001b[39;00m\n\u001b[1;32m----> 3\u001b[0m english_stopwords \u001b[38;5;241m=\u001b[39m \u001b[43mstopwords\u001b[49m\u001b[38;5;241m.\u001b[39mwords(\u001b[38;5;124m'\u001b[39m\u001b[38;5;124menglish\u001b[39m\u001b[38;5;124m'\u001b[39m)\n\u001b[0;32m      4\u001b[0m \u001b[38;5;28mprint\u001b[39m(\u001b[38;5;124mf\u001b[39m\u001b[38;5;124m\"\u001b[39m\u001b[38;5;124mLength of stopwords set before filtering: \u001b[39m\u001b[38;5;132;01m{\u001b[39;00m\u001b[38;5;28mlen\u001b[39m(english_stopwords)\u001b[38;5;132;01m}\u001b[39;00m\u001b[38;5;124m\"\u001b[39m)\n\u001b[0;32m      6\u001b[0m \u001b[38;5;124;03m\"\"\"\u001b[39;00m\n\u001b[0;32m      7\u001b[0m \u001b[38;5;124;03m    Filter a set of stopwords by removing words which match certain regular expressions.\u001b[39;00m\n\u001b[0;32m      8\u001b[0m \u001b[38;5;124;03m    Used to filter out stopwords indicating nefgation (e.g. \"can't\").\u001b[39;00m\n\u001b[0;32m      9\u001b[0m \u001b[38;5;124;03m\"\"\"\u001b[39;00m\n",
      "\u001b[1;31mNameError\u001b[0m: name 'stopwords' is not defined"
     ]
    }
   ],
   "source": [
    "# Stopwords\n",
    "\n",
    "english_stopwords = stopwords.words('english')\n",
    "print(f\"Length of stopwords set before filtering: {len(english_stopwords)}\")\n",
    "\n",
    "\"\"\"\n",
    "    Filter a set of stopwords by removing words which match certain regular expressions.\n",
    "    Used to filter out stopwords indicating nefgation (e.g. \"can't\").\n",
    "\"\"\"\n",
    "def filter_stopwords(stopwords, patterns):                  \n",
    "    non_negated_stopwords = set(\n",
    "        [stopword for stopword in stopwords\n",
    "        if not any(re.search(pattern, stopword, re.IGNORECASE) for pattern in patterns)\n",
    "        ])\n",
    "    return non_negated_stopwords\n",
    "\n",
    "non_negated_english_stopwords = filter_stopwords(english_stopwords, negation_patterns)\n",
    "print(f\"Length of stopwords set after filtering: {len(non_negated_english_stopwords)}\")\n",
    "\n",
    "## Now get the negated tokens (from using WordNet negation handler) and remove the stopwords from the tokens\n",
    "\n",
    "\"\"\"\n",
    "    Filters stopwords from a list of tokens\n",
    "\"\"\"\n",
    "def remove_stopwords_from_tokens(tokens, stopwords):\n",
    "    new_tokens = [token for token in tokens if token not in stopwords]\n",
    "    return new_tokens"
   ]
  },
  {
   "cell_type": "code",
   "execution_count": 2,
   "id": "6d77a58d-1d52-49f3-9718-0fdabad50082",
   "metadata": {},
   "outputs": [
    {
     "ename": "NameError",
     "evalue": "name 'wordnet_negated_train_tokens' is not defined",
     "output_type": "error",
     "traceback": [
      "\u001b[1;31m---------------------------------------------------------------------------\u001b[0m",
      "\u001b[1;31mNameError\u001b[0m                                 Traceback (most recent call last)",
      "Cell \u001b[1;32mIn[2], line 4\u001b[0m\n\u001b[0;32m      1\u001b[0m \u001b[38;5;66;03m# Get the tokens after applying the new negation handling function\u001b[39;00m\n\u001b[0;32m      2\u001b[0m wordnet_negated_train_tokens_no_stopwords \u001b[38;5;241m=\u001b[39m [\n\u001b[0;32m      3\u001b[0m     remove_stopwords_from_tokens(tokens, non_negated_english_stopwords)\n\u001b[1;32m----> 4\u001b[0m     \u001b[38;5;28;01mfor\u001b[39;00m tokens \u001b[38;5;129;01min\u001b[39;00m \u001b[43mwordnet_negated_train_tokens\u001b[49m\n\u001b[0;32m      5\u001b[0m ]\n\u001b[0;32m      6\u001b[0m wordnet_negated_validation_tokens_no_stopwords \u001b[38;5;241m=\u001b[39m [\n\u001b[0;32m      7\u001b[0m     remove_stopwords_from_tokens(tokens, non_negated_english_stopwords)\n\u001b[0;32m      8\u001b[0m     \u001b[38;5;28;01mfor\u001b[39;00m tokens \u001b[38;5;129;01min\u001b[39;00m wordnet_negated_validation_tokens\n\u001b[0;32m      9\u001b[0m ]\n",
      "\u001b[1;31mNameError\u001b[0m: name 'wordnet_negated_train_tokens' is not defined"
     ]
    }
   ],
   "source": [
    "# Get the tokens after applying the new negation handling function\n",
    "wordnet_negated_train_tokens_no_stopwords = [\n",
    "    remove_stopwords_from_tokens(tokens, non_negated_english_stopwords)\n",
    "    for tokens in wordnet_negated_train_tokens\n",
    "]\n",
    "wordnet_negated_validation_tokens_no_stopwords = [\n",
    "    remove_stopwords_from_tokens(tokens, non_negated_english_stopwords)\n",
    "    for tokens in wordnet_negated_validation_tokens\n",
    "]"
   ]
  },
  {
   "cell_type": "code",
   "execution_count": null,
   "id": "f89c62f2-883b-4464-9fac-7bdeef7d70b6",
   "metadata": {},
   "outputs": [],
   "source": []
  }
 ],
 "metadata": {
  "kernelspec": {
   "display_name": "Python 3 (ipykernel)",
   "language": "python",
   "name": "python3"
  },
  "language_info": {
   "codemirror_mode": {
    "name": "ipython",
    "version": 3
   },
   "file_extension": ".py",
   "mimetype": "text/x-python",
   "name": "python",
   "nbconvert_exporter": "python",
   "pygments_lexer": "ipython3",
   "version": "3.8.0"
  }
 },
 "nbformat": 4,
 "nbformat_minor": 5
}
