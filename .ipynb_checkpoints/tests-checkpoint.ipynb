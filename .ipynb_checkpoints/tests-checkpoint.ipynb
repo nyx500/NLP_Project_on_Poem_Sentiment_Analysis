{
 "cells": [
  {
   "cell_type": "code",
   "execution_count": 2,
   "id": "92623d25-fe8f-4e9d-b233-36516d9f78ea",
   "metadata": {},
   "outputs": [],
   "source": [
    "# Stopwords\n",
    "\n",
    "english_stopwords = stopwords.words('english')\n",
    "print(f\"Length of stopwords set before filtering: {len(english_stopwords)}\")\n",
    "\n",
    "\"\"\"\n",
    "    Filter a set of stopwords by removing words which match certain regular expressions.\n",
    "    Used to filter out stopwords indicating nefgation (e.g. \"can't\").\n",
    "\"\"\"\n",
    "def filter_stopwords(stopwords, patterns):                  \n",
    "    non_negated_stopwords = set(\n",
    "        [stopword for stopword in stopwords\n",
    "        if not any(re.search(pattern, stopword, re.IGNORECASE) for pattern in patterns)\n",
    "        ])\n",
    "    return non_negated_stopwords\n",
    "\n",
    "non_negated_english_stopwords = filter_stopwords(english_stopwords, negation_patterns)\n",
    "print(f\"Length of stopwords set after filtering: {len(non_negated_english_stopwords)}\")\n",
    "\n",
    "## Now get the negated tokens (from using WordNet negation handler) and remove the stopwords from the tokens\n",
    "\n",
    "\"\"\"\n",
    "    Filters stopwords from a list of tokens\n",
    "\"\"\"\n",
    "def remove_stopwords_from_tokens(tokens, stopwords):\n",
    "    new_tokens = [token for token in tokens if token not in stopwords]\n",
    "    return new_tokens"
   ]
  },
  {
   "cell_type": "code",
   "execution_count": 1,
   "id": "6d77a58d-1d52-49f3-9718-0fdabad50082",
   "metadata": {},
   "outputs": [],
   "source": [
    "# Get the tokens after applying the new negation handling function\n",
    "wordnet_negated_train_tokens_no_stopwords = [\n",
    "    remove_stopwords_from_tokens(tokens, non_negated_english_stopwords)\n",
    "    for tokens in wordnet_negated_train_tokens\n",
    "]\n",
    "wordnet_negated_validation_tokens_no_stopwords = [\n",
    "    remove_stopwords_from_tokens(tokens, non_negated_english_stopwords)\n",
    "    for tokens in wordnet_negated_validation_tokens\n",
    "]"
   ]
  },
  {
   "cell_type": "code",
   "execution_count": null,
   "id": "f89c62f2-883b-4464-9fac-7bdeef7d70b6",
   "metadata": {},
   "outputs": [],
   "source": [
    "## Removing Punctuation\n",
    "# Get the tokens after applying the new negation handling function\n",
    "wordnet_negated_train_tokens_no_punctuation = [\n",
    "    remove_punctuation(tokens)\n",
    "    for tokens in wordnet_negated_train_tokens\n",
    "]\n",
    "wordnet_negated_validation_tokens_no_punctuation = [\n",
    "    remove_punctuation(tokens)\n",
    "    for tokens in wordnet_negated_validation_tokens\n",
    "]"
   ]
  }
 ],
 "metadata": {
  "kernelspec": {
   "display_name": "Python 3 (ipykernel)",
   "language": "python",
   "name": "python3"
  },
  "language_info": {
   "codemirror_mode": {
    "name": "ipython",
    "version": 3
   },
   "file_extension": ".py",
   "mimetype": "text/x-python",
   "name": "python",
   "nbconvert_exporter": "python",
   "pygments_lexer": "ipython3",
   "version": "3.8.0"
  }
 },
 "nbformat": 4,
 "nbformat_minor": 5
}
